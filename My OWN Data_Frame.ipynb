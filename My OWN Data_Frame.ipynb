{
  "metadata": {
    "kernelspec": {
      "name": "python",
      "display_name": "Python (Pyodide)",
      "language": "python"
    },
    "language_info": {
      "codemirror_mode": {
        "name": "python",
        "version": 3
      },
      "file_extension": ".py",
      "mimetype": "text/x-python",
      "name": "python",
      "nbconvert_exporter": "python",
      "pygments_lexer": "ipython3",
      "version": "3.8"
    }
  },
  "nbformat_minor": 4,
  "nbformat": 4,
  "cells": [
    {
      "cell_type": "code",
      "source": "import numpy as np\nimport pandas as pd\nfrom numpy.random import randn ",
      "metadata": {
        "trusted": true
      },
      "outputs": [],
      "execution_count": 1
    },
    {
      "cell_type": "code",
      "source": "my_data=randn(4,3) #Rows,columns\nmy_rows=[\"A\",\"B\",\"C\",\"D\"]\nmy_columns=[\"Name\",\"Surname\",\"Adress\"]",
      "metadata": {
        "trusted": true
      },
      "outputs": [],
      "execution_count": 2
    },
    {
      "cell_type": "code",
      "source": "# створюємо DataFrame\nmy_df=pd.DataFrame(my_data,my_rows,my_columns)\nmy_df",
      "metadata": {
        "trusted": true
      },
      "outputs": [
        {
          "execution_count": 4,
          "output_type": "execute_result",
          "data": {
            "text/plain": "       Name   Surname    Adress\nA -0.488421  0.025979 -0.136097\nB  0.033594  0.065303 -0.126115\nC  0.456571  1.684511  1.032788\nD  0.535315  1.526813  0.240656",
            "text/html": "<div>\n<style scoped>\n    .dataframe tbody tr th:only-of-type {\n        vertical-align: middle;\n    }\n\n    .dataframe tbody tr th {\n        vertical-align: top;\n    }\n\n    .dataframe thead th {\n        text-align: right;\n    }\n</style>\n<table border=\"1\" class=\"dataframe\">\n  <thead>\n    <tr style=\"text-align: right;\">\n      <th></th>\n      <th>Name</th>\n      <th>Surname</th>\n      <th>Adress</th>\n    </tr>\n  </thead>\n  <tbody>\n    <tr>\n      <th>A</th>\n      <td>-0.488421</td>\n      <td>0.025979</td>\n      <td>-0.136097</td>\n    </tr>\n    <tr>\n      <th>B</th>\n      <td>0.033594</td>\n      <td>0.065303</td>\n      <td>-0.126115</td>\n    </tr>\n    <tr>\n      <th>C</th>\n      <td>0.456571</td>\n      <td>1.684511</td>\n      <td>1.032788</td>\n    </tr>\n    <tr>\n      <th>D</th>\n      <td>0.535315</td>\n      <td>1.526813</td>\n      <td>0.240656</td>\n    </tr>\n  </tbody>\n</table>\n</div>"
          },
          "metadata": {}
        }
      ],
      "execution_count": 4
    },
    {
      "cell_type": "code",
      "source": "my_df.loc[\"A\"]#вИБИРАЄМО ПЕВНИЙ рядок",
      "metadata": {
        "trusted": true
      },
      "outputs": [
        {
          "execution_count": 7,
          "output_type": "execute_result",
          "data": {
            "text/plain": "Name      -0.488421\nSurname    0.025979\nAdress    -0.136097\nName: A, dtype: float64"
          },
          "metadata": {}
        }
      ],
      "execution_count": 7
    },
    {
      "cell_type": "code",
      "source": "my_df[\"Name\"].describe()\n",
      "metadata": {
        "trusted": true
      },
      "outputs": [
        {
          "execution_count": 9,
          "output_type": "execute_result",
          "data": {
            "text/plain": "count    4.000000\nmean     0.134265\nstd      0.469962\nmin     -0.488421\n25%     -0.096909\n50%      0.245083\n75%      0.476257\nmax      0.535315\nName: Name, dtype: float64"
          },
          "metadata": {}
        }
      ],
      "execution_count": 9
    },
    {
      "cell_type": "code",
      "source": "my_df.columns",
      "metadata": {
        "trusted": true
      },
      "outputs": [
        {
          "execution_count": 10,
          "output_type": "execute_result",
          "data": {
            "text/plain": "Index(['Name', 'Surname', 'Adress'], dtype='object')"
          },
          "metadata": {}
        }
      ],
      "execution_count": 10
    },
    {
      "cell_type": "code",
      "source": "",
      "metadata": {
        "trusted": true
      },
      "outputs": [],
      "execution_count": null
    }
  ]
}
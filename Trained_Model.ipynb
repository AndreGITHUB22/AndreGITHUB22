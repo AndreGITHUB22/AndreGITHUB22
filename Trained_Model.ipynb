{
  "metadata": {
    "kernelspec": {
      "name": "python",
      "display_name": "Python (Pyodide)",
      "language": "python"
    },
    "language_info": {
      "codemirror_mode": {
        "name": "python",
        "version": 3
      },
      "file_extension": ".py",
      "mimetype": "text/x-python",
      "name": "python",
      "nbconvert_exporter": "python",
      "pygments_lexer": "ipython3",
      "version": "3.8"
    }
  },
  "nbformat_minor": 4,
  "nbformat": 4,
  "cells": [
    {
      "cell_type": "code",
      "source": "import numpy as np\nimport pandas as pd\nfrom numpy.random import randn \n",
      "metadata": {
        "trusted": true
      },
      "outputs": [],
      "execution_count": 25
    },
    {
      "cell_type": "code",
      "source": "my_df=pd.read_csv(\"Australian Vehicle Prices.csv\")",
      "metadata": {
        "trusted": true
      },
      "outputs": [],
      "execution_count": 12
    },
    {
      "cell_type": "code",
      "source": "my_df = my_df.dropna(axis=0)",
      "metadata": {
        "trusted": true
      },
      "outputs": [],
      "execution_count": 8
    },
    {
      "cell_type": "code",
      "source": "",
      "metadata": {
        "trusted": true
      },
      "outputs": [],
      "execution_count": null
    },
    {
      "cell_type": "code",
      "source": "my_df.describe()",
      "metadata": {
        "trusted": true
      },
      "outputs": [
        {
          "execution_count": 5,
          "output_type": "execute_result",
          "data": {
            "text/plain": "               Year\ncount  16733.000000\nmean    2016.229248\nstd        5.247705\nmin     1940.000000\n25%     2013.000000\n50%     2017.000000\n75%     2020.000000\nmax     2023.000000",
            "text/html": "<div>\n<style scoped>\n    .dataframe tbody tr th:only-of-type {\n        vertical-align: middle;\n    }\n\n    .dataframe tbody tr th {\n        vertical-align: top;\n    }\n\n    .dataframe thead th {\n        text-align: right;\n    }\n</style>\n<table border=\"1\" class=\"dataframe\">\n  <thead>\n    <tr style=\"text-align: right;\">\n      <th></th>\n      <th>Year</th>\n    </tr>\n  </thead>\n  <tbody>\n    <tr>\n      <th>count</th>\n      <td>16733.000000</td>\n    </tr>\n    <tr>\n      <th>mean</th>\n      <td>2016.229248</td>\n    </tr>\n    <tr>\n      <th>std</th>\n      <td>5.247705</td>\n    </tr>\n    <tr>\n      <th>min</th>\n      <td>1940.000000</td>\n    </tr>\n    <tr>\n      <th>25%</th>\n      <td>2013.000000</td>\n    </tr>\n    <tr>\n      <th>50%</th>\n      <td>2017.000000</td>\n    </tr>\n    <tr>\n      <th>75%</th>\n      <td>2020.000000</td>\n    </tr>\n    <tr>\n      <th>max</th>\n      <td>2023.000000</td>\n    </tr>\n  </tbody>\n</table>\n</div>"
          },
          "metadata": {}
        }
      ],
      "execution_count": 5
    },
    {
      "cell_type": "code",
      "source": "my_df.info()",
      "metadata": {
        "trusted": true
      },
      "outputs": [
        {
          "name": "stdout",
          "text": "<class 'pandas.core.frame.DataFrame'>\nInt64Index: 14586 entries, 0 to 16733\nData columns (total 19 columns):\n #   Column             Non-Null Count  Dtype  \n---  ------             --------------  -----  \n 0   Brand              14586 non-null  object \n 1   Year               14586 non-null  float64\n 2   Model              14586 non-null  object \n 3   Car/Suv            14586 non-null  object \n 4   Title              14586 non-null  object \n 5   UsedOrNew          14586 non-null  object \n 6   Transmission       14586 non-null  object \n 7   Engine             14586 non-null  object \n 8   DriveType          14586 non-null  object \n 9   FuelType           14586 non-null  object \n 10  FuelConsumption    14586 non-null  object \n 11  Kilometres         14586 non-null  object \n 12  ColourExtInt       14586 non-null  object \n 13  Location           14586 non-null  object \n 14  CylindersinEngine  14586 non-null  object \n 15  BodyType           14586 non-null  object \n 16  Doors              14586 non-null  object \n 17  Seats              14586 non-null  object \n 18  Price              14586 non-null  object \ndtypes: float64(1), object(18)\nmemory usage: 1.2+ MB\n",
          "output_type": "stream"
        }
      ],
      "execution_count": 10
    },
    {
      "cell_type": "code",
      "source": "my_df.columns",
      "metadata": {
        "trusted": true
      },
      "outputs": [
        {
          "execution_count": 7,
          "output_type": "execute_result",
          "data": {
            "text/plain": "Index(['Brand', 'Year', 'Model', 'Car/Suv', 'Title', 'UsedOrNew',\n       'Transmission', 'Engine', 'DriveType', 'FuelType', 'FuelConsumption',\n       'Kilometres', 'ColourExtInt', 'Location', 'CylindersinEngine',\n       'BodyType', 'Doors', 'Seats', 'Price'],\n      dtype='object')"
          },
          "metadata": {}
        }
      ],
      "execution_count": 7
    },
    {
      "cell_type": "code",
      "source": "y=my_df.Price",
      "metadata": {
        "trusted": true
      },
      "outputs": [],
      "execution_count": 14
    },
    {
      "cell_type": "code",
      "source": "my_df_features=['Brand', 'Year', 'Model','UsedOrNew','Kilometres','Engine']",
      "metadata": {
        "trusted": true
      },
      "outputs": [],
      "execution_count": 28
    },
    {
      "cell_type": "code",
      "source": "x=my_df[my_df_features]",
      "metadata": {
        "trusted": true
      },
      "outputs": [
        {
          "ename": "<class 'TypeError'>",
          "evalue": "'DecisionTreeRegressor' object is not subscriptable",
          "traceback": [
            "\u001b[0;31m---------------------------------------------------------------------------\u001b[0m",
            "\u001b[0;31mTypeError\u001b[0m                                 Traceback (most recent call last)",
            "Cell \u001b[0;32mIn[27], line 1\u001b[0m\n\u001b[0;32m----> 1\u001b[0m x\u001b[38;5;241m=\u001b[39m\u001b[43mmy_df\u001b[49m\u001b[43m[\u001b[49m\u001b[43mmy_df_features\u001b[49m\u001b[43m]\u001b[49m\n",
            "\u001b[0;31mTypeError\u001b[0m: 'DecisionTreeRegressor' object is not subscriptable"
          ],
          "output_type": "error"
        }
      ],
      "execution_count": 27
    },
    {
      "cell_type": "code",
      "source": "x.describe",
      "metadata": {
        "trusted": true
      },
      "outputs": [
        {
          "execution_count": 17,
          "output_type": "execute_result",
          "data": {
            "text/plain": "<bound method NDFrame.describe of                Brand    Year    Model UsedOrNew Kilometres        Engine\n0          Ssangyong  2022.0   Rexton      DEMO       5595  4 cyl, 2.2 L\n1                 MG  2022.0      MG3      USED         16  4 cyl, 1.5 L\n2                BMW  2022.0     430I      USED       8472    4 cyl, 2 L\n3      Mercedes-Benz  2011.0     E500      USED     136517  8 cyl, 5.5 L\n4            Renault  2022.0   Arkana      USED       1035  4 cyl, 1.3 L\n...              ...     ...      ...       ...        ...           ...\n16729         Toyota  2014.0  Alphard      USED      66000             -\n16730  Mercedes-Benz  2012.0  S-Class      USED     117432             -\n16731         Suzuki  2022.0   Vitara      DEMO       5165  4 cyl, 1.6 L\n16732  Mercedes-Benz  2016.0   GLC250      USED      85525    4 cyl, 2 L\n16733  Mercedes-Benz  2021.0     C200      USED      31852    4 cyl, 2 L\n\n[16734 rows x 6 columns]>"
          },
          "metadata": {}
        }
      ],
      "execution_count": 17
    },
    {
      "cell_type": "code",
      "source": "x.head()",
      "metadata": {
        "trusted": true
      },
      "outputs": [
        {
          "execution_count": 18,
          "output_type": "execute_result",
          "data": {
            "text/plain": "           Brand    Year   Model UsedOrNew Kilometres        Engine\n0      Ssangyong  2022.0  Rexton      DEMO       5595  4 cyl, 2.2 L\n1             MG  2022.0     MG3      USED         16  4 cyl, 1.5 L\n2            BMW  2022.0    430I      USED       8472    4 cyl, 2 L\n3  Mercedes-Benz  2011.0    E500      USED     136517  8 cyl, 5.5 L\n4        Renault  2022.0  Arkana      USED       1035  4 cyl, 1.3 L",
            "text/html": "<div>\n<style scoped>\n    .dataframe tbody tr th:only-of-type {\n        vertical-align: middle;\n    }\n\n    .dataframe tbody tr th {\n        vertical-align: top;\n    }\n\n    .dataframe thead th {\n        text-align: right;\n    }\n</style>\n<table border=\"1\" class=\"dataframe\">\n  <thead>\n    <tr style=\"text-align: right;\">\n      <th></th>\n      <th>Brand</th>\n      <th>Year</th>\n      <th>Model</th>\n      <th>UsedOrNew</th>\n      <th>Kilometres</th>\n      <th>Engine</th>\n    </tr>\n  </thead>\n  <tbody>\n    <tr>\n      <th>0</th>\n      <td>Ssangyong</td>\n      <td>2022.0</td>\n      <td>Rexton</td>\n      <td>DEMO</td>\n      <td>5595</td>\n      <td>4 cyl, 2.2 L</td>\n    </tr>\n    <tr>\n      <th>1</th>\n      <td>MG</td>\n      <td>2022.0</td>\n      <td>MG3</td>\n      <td>USED</td>\n      <td>16</td>\n      <td>4 cyl, 1.5 L</td>\n    </tr>\n    <tr>\n      <th>2</th>\n      <td>BMW</td>\n      <td>2022.0</td>\n      <td>430I</td>\n      <td>USED</td>\n      <td>8472</td>\n      <td>4 cyl, 2 L</td>\n    </tr>\n    <tr>\n      <th>3</th>\n      <td>Mercedes-Benz</td>\n      <td>2011.0</td>\n      <td>E500</td>\n      <td>USED</td>\n      <td>136517</td>\n      <td>8 cyl, 5.5 L</td>\n    </tr>\n    <tr>\n      <th>4</th>\n      <td>Renault</td>\n      <td>2022.0</td>\n      <td>Arkana</td>\n      <td>USED</td>\n      <td>1035</td>\n      <td>4 cyl, 1.3 L</td>\n    </tr>\n  </tbody>\n</table>\n</div>"
          },
          "metadata": {}
        }
      ],
      "execution_count": 18
    },
    {
      "cell_type": "code",
      "source": "",
      "metadata": {
        "trusted": true
      },
      "outputs": [],
      "execution_count": null
    },
    {
      "cell_type": "code",
      "source": "",
      "metadata": {
        "trusted": true
      },
      "outputs": [],
      "execution_count": null
    }
  ]
}